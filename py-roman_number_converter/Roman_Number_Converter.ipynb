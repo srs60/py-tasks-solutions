{
 "cells": [
  {
   "cell_type": "markdown",
   "metadata": {},
   "source": [
    "#  Roman Number Converter\n",
    "Information about Roman numerals can be found on [Wiki:Roman numerals](https://en.wikipedia.org/wiki/Roman_numerals)"
   ]
  },
  {
   "cell_type": "code",
   "execution_count": 1,
   "metadata": {},
   "outputs": [
    {
     "name": "stdout",
     "output_type": "stream",
     "text": [
      "n =  3497 res = MMMCDXCVII\n",
      "n =  1999 res = MCMXCIX\n",
      "n =   904 res = CMIV\n",
      "s = MMMCMLXXXVI     res =  3986\n",
      "s = MXCIX           res =  1099\n",
      "s = CMIX            res =   909\n"
     ]
    }
   ],
   "source": [
    "class RomanConvert():\n",
    "    numdict = {'M':1000, 'CM':900, 'D':500, 'CD':400, 'C':100, \n",
    "               'XC':90, 'L':50, 'XL':40, 'X':10, \n",
    "               'IX':9, 'V':5, 'IV':4, 'I':1}\n",
    "\n",
    "    def int_to_roman(self,n):\n",
    "        result = ''\n",
    "        for roman, num in self.numdict.items():\n",
    "            result += (n // num) * roman\n",
    "            n %= num\n",
    "\n",
    "        return result    \n",
    "\n",
    "    def roman_to_int(self,s):\n",
    "        result = 0\n",
    "        for i in range(len(s)):\n",
    "            if i > 0 and self.numdict[s[i]] > self.numdict[s[i-1]]:\n",
    "                result += self.numdict[s[i]] - 2*self.numdict[s[i-1]]\n",
    "            else:\n",
    "                result += self.numdict[s[i]]\n",
    "    \n",
    "        return result\n",
    "\n",
    "\n",
    "c = RomanConvert()\n",
    "\n",
    "for n in [3497,1999,904]:\n",
    "    print(f'n = {n:5d} res = {c.int_to_roman(n)}')\n",
    "\n",
    "for s in ['MMMCMLXXXVI','MXCIX','CMIX']:\n",
    "    print(f's = {s:15s} res = {c.roman_to_int(s):5d}')"
   ]
  },
  {
   "cell_type": "code",
   "execution_count": null,
   "metadata": {},
   "outputs": [],
   "source": []
  },
  {
   "cell_type": "markdown",
   "metadata": {},
   "source": [
    "### Example from CheckiO: Clear solution for Roman Numerals\n",
    "[CheckiO Blog](https://py.checkio.org/mission/roman-numerals/publications/veky/python-3/enum/share/22e044ab85d2e00f7c2bb4b0c7550f41/)"
   ]
  },
  {
   "cell_type": "code",
   "execution_count": 2,
   "metadata": {},
   "outputs": [
    {
     "name": "stdout",
     "output_type": "stream",
     "text": [
      "num =  3124 res = MMMCXXIV\n"
     ]
    }
   ],
   "source": [
    "from enum import Enum\n",
    "\n",
    "class Roman(Enum):\n",
    "    M  = 1000\n",
    "    CM = 900\n",
    "    D  = 500\n",
    "    CD = 400\n",
    "    C  = 100\n",
    "    XC = 90\n",
    "    L  = 50\n",
    "    XL = 40\n",
    "    X  = 10\n",
    "    IX = 9\n",
    "    V  = 5\n",
    "    IV = 4\n",
    "    I  = 1\n",
    "\n",
    "    @classmethod\n",
    "    def encode(cls, n):\n",
    "        for numeral in cls:\n",
    "            rep, n = divmod(n, numeral.value)\n",
    "            yield numeral.name * rep\n",
    "\n",
    "\n",
    "checkio = lambda n: ''.join(Roman.encode(n))\n",
    "\n",
    "num = 3124\n",
    "print(f'num = {num:5d} res = {checkio(num)}')"
   ]
  },
  {
   "cell_type": "code",
   "execution_count": null,
   "metadata": {},
   "outputs": [],
   "source": []
  }
 ],
 "metadata": {
  "kernelspec": {
   "display_name": "Python 3",
   "language": "python",
   "name": "python3"
  },
  "language_info": {
   "codemirror_mode": {
    "name": "ipython",
    "version": 3
   },
   "file_extension": ".py",
   "mimetype": "text/x-python",
   "name": "python",
   "nbconvert_exporter": "python",
   "pygments_lexer": "ipython3",
   "version": "3.7.0"
  }
 },
 "nbformat": 4,
 "nbformat_minor": 2
}
