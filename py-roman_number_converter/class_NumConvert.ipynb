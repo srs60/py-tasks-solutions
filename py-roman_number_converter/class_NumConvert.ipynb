{
 "cells": [
  {
   "cell_type": "markdown",
   "metadata": {},
   "source": [
    "# class NumConvert"
   ]
  },
  {
   "cell_type": "code",
   "execution_count": 79,
   "metadata": {},
   "outputs": [],
   "source": [
    "class NumConvert(object):\n",
    "    numdict = {'M':1000, 'CM':900, 'D':500, 'CD':400, 'C':100, \n",
    "               'XC':90, 'L':50, 'XL':40, 'X':10, \n",
    "               'IX':9, 'V':5, 'IV':4, 'I':1}\n",
    "\n",
    "    def int_to_roman(self,n):\n",
    "        '''This function converts an integer to roman numerical.\n",
    "           The max roman numerical which is MMMCMXCIX, represented as an integer is equal to 3999.'''\n",
    "        if 0 <= inp and inp > 3999:\n",
    "            raise ValueError('Not valid int to be converted')\n",
    "        result = ''\n",
    "        for roman, num in self.numdict.items():\n",
    "            result += (n // num) * roman\n",
    "            n %= num\n",
    "\n",
    "        return result    \n",
    "\n",
    "    def roman_to_int(self,s):\n",
    "        '''This function converts roman numerical to an integer.'''\n",
    "        s = s.upper()\n",
    "        result = 0\n",
    "        for i in range(len(s)):\n",
    "            if i > 0 and self.numdict[s[i]] > self.numdict[s[i-1]]:\n",
    "                result += self.numdict[s[i]] - 2*self.numdict[s[i-1]]\n",
    "            else:\n",
    "                result += self.numdict[s[i]]\n",
    "    \n",
    "        return result\n",
    "\n",
    "    def reverse_integer(self,n):\n",
    "        '''This function inverts an integer, positive or negative.\n",
    "            The resulting leading zeros are eliminated.'''\n",
    "        sign = -1 if n < 0 else 1\n",
    "        n *= sign\n",
    "\n",
    "        nlst = list(str(n))\n",
    "        n = int(\"\".join(nlst[::-1]))\n",
    "\n",
    "        return sign*n\n"
   ]
  },
  {
   "cell_type": "code",
   "execution_count": 80,
   "metadata": {},
   "outputs": [
    {
     "name": "stdout",
     "output_type": "stream",
     "text": [
      "MMMMM\n",
      "MMMDCCC\n",
      "\n",
      "19\n",
      "2020\n",
      "1977\n",
      "1987654321\n",
      "-11987654321\n"
     ]
    }
   ],
   "source": [
    "c = NumConvert()\n",
    "#help(c)\n",
    "\n",
    "print(c.int_to_roman(5000))\n",
    "print(c.int_to_roman(3800))\n",
    "print(c.int_to_roman(0))\n",
    "\n",
    "print(c.roman_to_int('VVVIV'))\n",
    "print(c.roman_to_int('mmxx'))\n",
    "print(c.roman_to_int('MCMLXXVII'))\n",
    "\n",
    "print(c.reverse_integer(12345678910))\n",
    "print(c.reverse_integer(-12345678911))"
   ]
  },
  {
   "cell_type": "code",
   "execution_count": null,
   "metadata": {},
   "outputs": [],
   "source": []
  },
  {
   "cell_type": "code",
   "execution_count": 24,
   "metadata": {},
   "outputs": [
    {
     "name": "stdout",
     "output_type": "stream",
     "text": [
      "4002\n"
     ]
    }
   ],
   "source": [
    "class Solution(object):\n",
    "    def romanToInt(self, s):\n",
    "        \"\"\"\n",
    "        :type s: str\n",
    "        :rtype: int\n",
    "        \"\"\"\n",
    "        roman = {'I':1,'V':5,'X':10,'L':50,\n",
    "                 'C':100,'D':500,\n",
    "                 'M':1000,\n",
    "                 'IV':4,'IX':9,'XL':40,'XC':90,'CD':400,'CM':900}\n",
    "        i = 0\n",
    "        num = 0\n",
    "        while i < len(s):\n",
    "            if i+1<len(s) and s[i:i+2] in roman:\n",
    "                num+=roman[s[i:i+2]]\n",
    "                i+=2\n",
    "            else:\n",
    "                #print(i)\n",
    "                num+=roman[s[i]]\n",
    "                i+=1\n",
    "        return num\n",
    "\n",
    "ob1 = Solution()\n",
    "print(ob1.romanToInt('MMMCMXCIXIII'))\n",
    "\n",
    "#message = str(input(\"Please enter your roman number: \"))\n",
    "#if message <= (\"MMMCMXCIX\"):\n",
    "#    pt (ob1.romanToInt(message))\n",
    "#else:\n",
    "#    pririnnt (\"Try again\")\n"
   ]
  },
  {
   "cell_type": "code",
   "execution_count": null,
   "metadata": {},
   "outputs": [],
   "source": []
  },
  {
   "cell_type": "code",
   "execution_count": 36,
   "metadata": {},
   "outputs": [
    {
     "name": "stdout",
     "output_type": "stream",
     "text": [
      "9 True\n",
      "40 True\n",
      "61 True\n",
      "4002 True\n"
     ]
    }
   ],
   "source": [
    "roman = {'I':1,'V':5,'X':10,'L':50,'C':100,'D':500,'M':1000,'IV':4,'IX':9,'XL':40,'XC':90,'CD':400,'CM':900}\n",
    "\n",
    "def roman2Dec(inp):\n",
    "    inpNum = [roman[x] for x in inp]\n",
    "    return sum([-x if i < len(inpNum)-1 and x < inpNum[i+1] else x for i, x in enumerate(inpNum)])\n",
    "\n",
    "for nums in [('IX', 9), ('XL', 40), ('LXI', 61), ('MMMCMXCIXIII', 4002)]:\n",
    "    result = roman2Dec(nums[0])\n",
    "    print(result, result == nums[1])"
   ]
  },
  {
   "cell_type": "code",
   "execution_count": null,
   "metadata": {},
   "outputs": [],
   "source": []
  },
  {
   "cell_type": "code",
   "execution_count": null,
   "metadata": {},
   "outputs": [],
   "source": []
  },
  {
   "cell_type": "code",
   "execution_count": 27,
   "metadata": {},
   "outputs": [],
   "source": [
    "# Solution 1: (Approx Runtime = 52ms)\n",
    "\n",
    "def romanToInt1(s: str) -> int:\n",
    "    s = s.upper()\n",
    "    roman = {'I':1, 'V':5, 'X':10, 'L':50, 'C':100, 'D':500, 'M':1000 }    \n",
    "    num = 0\n",
    "\n",
    "    for i in range(len(s)):\n",
    "\n",
    "        if i!= len(s)-1 and roman[s[i]] < roman[s[i+1]]:\n",
    "            num += roman[s[i]]*-1\n",
    "        else:\n",
    "             num += roman[s[i]]\n",
    "\n",
    "    return num"
   ]
  },
  {
   "cell_type": "code",
   "execution_count": 28,
   "metadata": {},
   "outputs": [],
   "source": [
    "# Solution 2: (Approx Runtime = 60ms)\n",
    "\n",
    "def romanToInt2(s: str) -> int:\n",
    "    s = s.upper()\n",
    "    roman = {'I':1, 'V':5, 'X':10, 'L':50, 'C':100, 'D':500, 'M':1000 }    \n",
    "    num = 0\n",
    "\n",
    "    s = s.replace(\"IV\", \"IIII\").replace(\"IX\", \"VIIII\")\n",
    "    s = s.replace(\"XL\", \"XXXX\").replace(\"XC\", \"LXXXX\")\n",
    "    s = s.replace(\"CD\", \"CCCC\").replace(\"CM\", \"DCCCC\")\n",
    "\n",
    "    for x in s:\n",
    "        num += roman[x]\n",
    "\n",
    "    return num"
   ]
  },
  {
   "cell_type": "code",
   "execution_count": 29,
   "metadata": {},
   "outputs": [],
   "source": [
    "# Solution 3: (Approx Runtime = 48ms)\n",
    "\n",
    "def romanToInt3(s: str) -> int:\n",
    "    s = s.upper()\n",
    "    roman = {'I':1, 'V':5, 'X':10, 'L':50, 'C':100, 'D':500, 'M':1000 }    \n",
    "    num = 0\n",
    "\n",
    "    for i in range(len(s)-1):\n",
    "        if roman[s[i]] < roman[s[i+1]]:\n",
    "            num += roman[s[i]]*-1\n",
    "            continue\n",
    "\n",
    "        num += roman[s[i]]\n",
    "\n",
    "    num +=roman[s[-1]]\n",
    "\n",
    "    return num"
   ]
  },
  {
   "cell_type": "code",
   "execution_count": 30,
   "metadata": {},
   "outputs": [
    {
     "name": "stdout",
     "output_type": "stream",
     "text": [
      "4002\n",
      "4002\n",
      "4002\n"
     ]
    }
   ],
   "source": [
    "print(romanToInt1('MMMCMXCIXIII'))\n",
    "print(romanToInt2('MMMCMXCIXIII'))\n",
    "print(romanToInt3('MMMCMXCIXIII'))"
   ]
  },
  {
   "cell_type": "code",
   "execution_count": null,
   "metadata": {},
   "outputs": [],
   "source": []
  },
  {
   "cell_type": "code",
   "execution_count": null,
   "metadata": {},
   "outputs": [],
   "source": []
  },
  {
   "cell_type": "code",
   "execution_count": 40,
   "metadata": {},
   "outputs": [],
   "source": [
    "numeral_map = zip(\n",
    "    (1000, 900, 500, 400, 100, 90, 50, 40, 10, 9, 5, 4, 1),\n",
    "    ('M', 'CM', 'D', 'CD', 'C', 'XC', 'L', 'XL', 'X', 'IX', 'V', 'IV', 'I')\n",
    ")\n",
    "def roman_to_int(n):\n",
    "    n = n.upper()\n",
    "\n",
    "    i = result = 0\n",
    "    for integer, numeral in numeral_map:\n",
    "        while n[i:i + len(numeral)] == numeral:\n",
    "            result += integer\n",
    "            i += len(numeral)\n",
    "    return result"
   ]
  },
  {
   "cell_type": "code",
   "execution_count": 41,
   "metadata": {},
   "outputs": [
    {
     "name": "stdout",
     "output_type": "stream",
     "text": [
      "4002\n"
     ]
    }
   ],
   "source": [
    "print(roman_to_int('MMMCMXCIXIII'))"
   ]
  },
  {
   "cell_type": "code",
   "execution_count": null,
   "metadata": {},
   "outputs": [],
   "source": []
  },
  {
   "cell_type": "code",
   "execution_count": 50,
   "metadata": {},
   "outputs": [],
   "source": [
    "def int_to_roman11(input):\n",
    "    \"\"\" Convert an integer to a Roman numeral. \"\"\"\n",
    "    if not isinstance(input, type(1)):\n",
    "        raise TypeError(\"expected integer, got %s\" % type(input))\n",
    "\n",
    "    if not 0 < input < 4000:\n",
    "        raise ValueError(\"Argument must be between 1 and 3999\")\n",
    "\n",
    "    ints = (1000, 900,  500, 400, 100,  90, 50,  40, 10,  9,   5,  4,   1)\n",
    "    nums = ('M',  'CM', 'D', 'CD','C', 'XC','L','XL','X','IX','V','IV','I')\n",
    "    result = []\n",
    "\n",
    "    for i in range(len(ints)):\n",
    "        count = int(input / ints[i])\n",
    "        result.append(nums[i] * count)\n",
    "        input -= ints[i] * count\n",
    "    return ''.join(result)\n",
    "\n",
    "def roman_to_int11(input):\n",
    "    \"\"\" Convert a Roman numeral to an integer. \"\"\"\n",
    "    nums = {'M':1000, 'D':500, 'C':100, 'L':50, 'X':10, 'V':5, 'I':1}\n",
    "    if not isinstance(input, type(\"\")):\n",
    "        raise TypeError(\"expected string, got %s\" % type(input))\n",
    "\n",
    "    input = input.upper(  )\n",
    "    sum = 0\n",
    "    for i in range(len(input)):\n",
    "        try:\n",
    "            value = nums[input[i]]\n",
    "            # If the next place holds a larger number, this value is negative\n",
    "            if i+1 < len(input) and nums[input[i+1]] > value:\n",
    "                sum -= value\n",
    "            else: sum += value\n",
    "        except KeyError:\n",
    "            raise ValueError('input is not a valid Roman numeral: %s' % input)\n",
    "\n",
    "    # easiest test for validity...\n",
    "    if int_to_roman11(sum) == input:\n",
    "        return sum\n",
    "    else:\n",
    "        raise ValueError('input is not a valid Roman numeral: %s' % input)"
   ]
  },
  {
   "cell_type": "code",
   "execution_count": 51,
   "metadata": {},
   "outputs": [
    {
     "name": "stdout",
     "output_type": "stream",
     "text": [
      "MMMCMXCIX\n"
     ]
    },
    {
     "ename": "ValueError",
     "evalue": "Argument must be between 1 and 3999",
     "output_type": "error",
     "traceback": [
      "\u001b[0;31m---------------------------------------------------------------------------\u001b[0m",
      "\u001b[0;31mValueError\u001b[0m                                Traceback (most recent call last)",
      "\u001b[0;32m<ipython-input-51-b0a40bc429b9>\u001b[0m in \u001b[0;36m<module>\u001b[0;34m\u001b[0m\n\u001b[1;32m      1\u001b[0m \u001b[0mprint\u001b[0m\u001b[0;34m(\u001b[0m\u001b[0mint_to_roman11\u001b[0m\u001b[0;34m(\u001b[0m\u001b[0;36m3999\u001b[0m\u001b[0;34m)\u001b[0m\u001b[0;34m)\u001b[0m\u001b[0;34m\u001b[0m\u001b[0m\n\u001b[0;32m----> 2\u001b[0;31m \u001b[0mprint\u001b[0m\u001b[0;34m(\u001b[0m\u001b[0mroman_to_int11\u001b[0m\u001b[0;34m(\u001b[0m\u001b[0;34m'MMMCMXCIXIII'\u001b[0m\u001b[0;34m)\u001b[0m\u001b[0;34m)\u001b[0m\u001b[0;34m\u001b[0m\u001b[0m\n\u001b[0m",
      "\u001b[0;32m<ipython-input-50-2b2dcb4b1c1c>\u001b[0m in \u001b[0;36mroman_to_int11\u001b[0;34m(input)\u001b[0m\n\u001b[1;32m     36\u001b[0m \u001b[0;34m\u001b[0m\u001b[0m\n\u001b[1;32m     37\u001b[0m     \u001b[0;31m# easiest test for validity...\u001b[0m\u001b[0;34m\u001b[0m\u001b[0;34m\u001b[0m\u001b[0m\n\u001b[0;32m---> 38\u001b[0;31m     \u001b[0;32mif\u001b[0m \u001b[0mint_to_roman11\u001b[0m\u001b[0;34m(\u001b[0m\u001b[0msum\u001b[0m\u001b[0;34m)\u001b[0m \u001b[0;34m==\u001b[0m \u001b[0minput\u001b[0m\u001b[0;34m:\u001b[0m\u001b[0;34m\u001b[0m\u001b[0m\n\u001b[0m\u001b[1;32m     39\u001b[0m         \u001b[0;32mreturn\u001b[0m \u001b[0msum\u001b[0m\u001b[0;34m\u001b[0m\u001b[0m\n\u001b[1;32m     40\u001b[0m     \u001b[0;32melse\u001b[0m\u001b[0;34m:\u001b[0m\u001b[0;34m\u001b[0m\u001b[0m\n",
      "\u001b[0;32m<ipython-input-50-2b2dcb4b1c1c>\u001b[0m in \u001b[0;36mint_to_roman11\u001b[0;34m(input)\u001b[0m\n\u001b[1;32m      5\u001b[0m \u001b[0;34m\u001b[0m\u001b[0m\n\u001b[1;32m      6\u001b[0m     \u001b[0;32mif\u001b[0m \u001b[0;32mnot\u001b[0m \u001b[0;36m0\u001b[0m \u001b[0;34m<\u001b[0m \u001b[0minput\u001b[0m \u001b[0;34m<\u001b[0m \u001b[0;36m4000\u001b[0m\u001b[0;34m:\u001b[0m\u001b[0;34m\u001b[0m\u001b[0m\n\u001b[0;32m----> 7\u001b[0;31m         \u001b[0;32mraise\u001b[0m \u001b[0mValueError\u001b[0m\u001b[0;34m(\u001b[0m\u001b[0;34m\"Argument must be between 1 and 3999\"\u001b[0m\u001b[0;34m)\u001b[0m\u001b[0;34m\u001b[0m\u001b[0m\n\u001b[0m\u001b[1;32m      8\u001b[0m \u001b[0;34m\u001b[0m\u001b[0m\n\u001b[1;32m      9\u001b[0m     \u001b[0mints\u001b[0m \u001b[0;34m=\u001b[0m \u001b[0;34m(\u001b[0m\u001b[0;36m1000\u001b[0m\u001b[0;34m,\u001b[0m \u001b[0;36m900\u001b[0m\u001b[0;34m,\u001b[0m  \u001b[0;36m500\u001b[0m\u001b[0;34m,\u001b[0m \u001b[0;36m400\u001b[0m\u001b[0;34m,\u001b[0m \u001b[0;36m100\u001b[0m\u001b[0;34m,\u001b[0m  \u001b[0;36m90\u001b[0m\u001b[0;34m,\u001b[0m \u001b[0;36m50\u001b[0m\u001b[0;34m,\u001b[0m  \u001b[0;36m40\u001b[0m\u001b[0;34m,\u001b[0m \u001b[0;36m10\u001b[0m\u001b[0;34m,\u001b[0m  \u001b[0;36m9\u001b[0m\u001b[0;34m,\u001b[0m   \u001b[0;36m5\u001b[0m\u001b[0;34m,\u001b[0m  \u001b[0;36m4\u001b[0m\u001b[0;34m,\u001b[0m   \u001b[0;36m1\u001b[0m\u001b[0;34m)\u001b[0m\u001b[0;34m\u001b[0m\u001b[0m\n",
      "\u001b[0;31mValueError\u001b[0m: Argument must be between 1 and 3999"
     ]
    }
   ],
   "source": [
    "print(int_to_roman11(3999))\n",
    "print(roman_to_int11('MMMCMXCIXIII'))"
   ]
  },
  {
   "cell_type": "code",
   "execution_count": null,
   "metadata": {},
   "outputs": [],
   "source": []
  },
  {
   "cell_type": "code",
   "execution_count": 74,
   "metadata": {},
   "outputs": [
    {
     "name": "stdout",
     "output_type": "stream",
     "text": [
      "Enter number: 3999\n",
      "3999\n"
     ]
    }
   ],
   "source": [
    "inp = int(input('Enter number: '))\n",
    "s = [0,3999]\n",
    "if 0 < inp and inp <= 3999:\n",
    "    print(inp)\n",
    "else:\n",
    "    print('Not in range[0<-->3999]')"
   ]
  },
  {
   "cell_type": "code",
   "execution_count": null,
   "metadata": {},
   "outputs": [],
   "source": []
  },
  {
   "cell_type": "code",
   "execution_count": null,
   "metadata": {},
   "outputs": [],
   "source": []
  }
 ],
 "metadata": {
  "kernelspec": {
   "display_name": "Python 3",
   "language": "python",
   "name": "python3"
  },
  "language_info": {
   "codemirror_mode": {
    "name": "ipython",
    "version": 3
   },
   "file_extension": ".py",
   "mimetype": "text/x-python",
   "name": "python",
   "nbconvert_exporter": "python",
   "pygments_lexer": "ipython3",
   "version": "3.7.0"
  }
 },
 "nbformat": 4,
 "nbformat_minor": 2
}
