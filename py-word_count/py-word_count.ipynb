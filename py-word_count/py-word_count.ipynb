{
 "cells": [
  {
   "cell_type": "markdown",
   "metadata": {},
   "source": [
    "# Word count\n",
    "\n",
    "Create a program to count the total number of words in a text / string and print the frequency of the most common words in the text. For the task use ready text from the site https://www.lipsum.com/\n",
    "\n",
    "The algorithm is:\n",
    "\n",
    "- Create a dictionary from the available text, the keys being the words in the text and the values being the frequency of encounters.\n",
    "- Print the 10 or all (if not too many) most common words.\n",
    "- A word is a part of the text that is enclosed by a space or punctuation mark dot or comma."
   ]
  },
  {
   "cell_type": "code",
   "execution_count": null,
   "metadata": {},
   "outputs": [],
   "source": [
    "def word_count(str):\n",
    "    counts = dict()\n",
    "    words = str.split()\n",
    " \n",
    "    for word in words:\n",
    "        if word in counts:\n",
    "            counts[word] += 1\n",
    "        else:\n",
    "            counts[word] = 1\n",
    "    return counts\n",
    "\n",
    "words = 'the quick brown fox, jumps over the lazy dog.'\n",
    "\n",
    "for char in '-_.,#$%@&\"!?/\\t\\n':\n",
    "    words=words.replace(char,' ')\n",
    "    \n",
    "words = words.lower()\n",
    "print(word_count(words))"
   ]
  },
  {
   "cell_type": "markdown",
   "metadata": {},
   "source": [
    "# Word Count\n",
    "\n",
    "Extract information from a text file. The code should tell how many words there is in the file, to report how many lines and characters are in the file contains, and report all word count.\n",
    "\n",
    "#### Required Technical Details\n",
    "\n",
    "- Read from a text file\n",
    "- Total lines of words in the text file\n",
    "- Total characters in the text file\n",
    "- Report all word count"
   ]
  },
  {
   "cell_type": "code",
   "execution_count": null,
   "metadata": {},
   "outputs": [],
   "source": [
    "%%writefile demo.txt\n",
    "Sed ut perspiciatis unde omnis iste natus error sit voluptatem \n",
    "accusantium doloremque laudantium, totam rem aperiam, eaque ipsa\n",
    "quae ab illo inventore veritatis et quasi architecto beatae vitae\n",
    "dicta sunt explicabo. Nemo enim ipsam voluptatem quia voluptas sit\n",
    "aspernatur aut odit aut fugit, sed quia consequuntur magni dolores\n",
    "eos qui ratione voluptatem sequi nesciunt. Neque porro quisquam est,\n",
    "qui dolorem ipsum quia dolor sit amet, consectetur, adipisci velit,\n",
    "sed quia non numquam eius modi tempora incidunt ut labore et dolore\n",
    "magnam aliquam quaerat voluptatem. Ut enim ad minima veniam, quis\n",
    "nostrum exercitationem ullam corporis suscipit laboriosam, nisi ut\n",
    "aliquid ex ea commodi consequatur? Quis - autem vel eum iure \n",
    "reprehenderit qui in ea voluptate velit esse quam nihil molestiae\n",
    "consequatur, vel illum qui dolorem eum fugiat quo voluptas nulla pariatur?"
   ]
  },
  {
   "cell_type": "code",
   "execution_count": null,
   "metadata": {},
   "outputs": [],
   "source": [
    "# get text from file\n",
    "with open('demo.txt','r') as f:\n",
    "    lines = f.readlines()\n",
    "\n",
    "# count lines in text\n",
    "lncount = len(lines)\n",
    "print('Total lines: ',lncount)\n",
    "Text = ''.join(lines)\n",
    "\n",
    "# cleaning text and lower casing all words\n",
    "for char in '-_.,#$%@&\"!?/\\t\\n':\n",
    "    Text=Text.replace(char,' ')\n",
    "Text = Text.lower()\n",
    "\n",
    "# count characters in text\n",
    "word_list = Text.split()\n",
    "num_chars = len(Text.replace(\" \", \"\"))\n",
    "print('Total characters: ',num_chars)\n",
    "\n",
    "# check the word frequency in text\n",
    "word_dic = {}\n",
    "for word in word_list:\n",
    "    if word not in word_dic:\n",
    "        word_dic[word] = 0\n",
    "    word_dic[word] += 1\n",
    "\n",
    "word_freq = []\n",
    "for key, value in word_dic.items():\n",
    "    word_freq.append((value, key))\n",
    "word_freq.sort(reverse=True)\n",
    "\n",
    "print('Number of words found more than 2 times: ')\n",
    "for k,v in word_freq:\n",
    "    if 2 < k < 20:\n",
    "        print('   count',k,v)\n",
    "\n",
    "print(word_dic)\n",
    "#print(word_freq)"
   ]
  },
  {
   "cell_type": "code",
   "execution_count": null,
   "metadata": {},
   "outputs": [],
   "source": []
  }
 ],
 "metadata": {
  "kernelspec": {
   "display_name": "Python 3",
   "language": "python",
   "name": "python3"
  },
  "language_info": {
   "codemirror_mode": {
    "name": "ipython",
    "version": 3
   },
   "file_extension": ".py",
   "mimetype": "text/x-python",
   "name": "python",
   "nbconvert_exporter": "python",
   "pygments_lexer": "ipython3",
   "version": "3.7.0"
  }
 },
 "nbformat": 4,
 "nbformat_minor": 2
}
