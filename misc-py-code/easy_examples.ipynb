{
 "cells": [
  {
   "cell_type": "markdown",
   "metadata": {},
   "source": [
    "## String manipulation\n"
   ]
  },
  {
   "cell_type": "code",
   "execution_count": 25,
   "metadata": {},
   "outputs": [
    {
     "name": "stdout",
     "output_type": "stream",
     "text": [
      "aaabbbccc\n"
     ]
    }
   ],
   "source": [
    "#\n",
    "# You have a string of 3 characters 'abc' that you need to convert to 'aaabbbccc'.\n",
    "#\n",
    "a = 'abc'\n",
    "a *= 3\n",
    "a = list(a)\n",
    "a.sort()\n",
    "a = \"\".join(a)\n",
    "print(a)"
   ]
  },
  {
   "cell_type": "markdown",
   "metadata": {},
   "source": [
    "## Reverse integer"
   ]
  },
  {
   "cell_type": "code",
   "execution_count": 33,
   "metadata": {},
   "outputs": [
    {
     "name": "stdout",
     "output_type": "stream",
     "text": [
      "input int ==  12345678910111200\n",
      "reversed  ==  211101987654321\n",
      "if negative, then reversed ==  -211101987654321\n"
     ]
    }
   ],
   "source": [
    "#\n",
    "# Create a function that inverts an integer, positive or negative.\n",
    "# The resulting leading zeros are eliminated.\n",
    "#\n",
    "def reverse_integer(n):\n",
    "        sign = -1 if n < 0 else 1\n",
    "        n *= sign\n",
    "\n",
    "        nlst = list(str(n))\n",
    "        n = int(\"\".join(nlst[::-1]))\n",
    "\n",
    "        return sign*n\n",
    "\n",
    "n = 12345678910111200\n",
    "print('input int == ',n)\n",
    "print('reversed  == ',reverse_integer(n))\n",
    "print('if negative, then reversed == ',reverse_integer(-n))"
   ]
  },
  {
   "cell_type": "code",
   "execution_count": 41,
   "metadata": {},
   "outputs": [
    {
     "name": "stdout",
     "output_type": "stream",
     "text": [
      "reversed  ==  211101987654321\n"
     ]
    }
   ],
   "source": [
    "def reverse_integer2(num):\n",
    "    rev = 0\n",
    "    while num > 0:\n",
    "        remainder = num % 10\n",
    "        rev = (rev * 10) + remainder\n",
    "        num = num // 10\n",
    "\n",
    "    return rev\n",
    "\n",
    "n = 12345678910111200\n",
    "print('reversed  == ',reverse_integer2(n))"
   ]
  },
  {
   "cell_type": "code",
   "execution_count": null,
   "metadata": {},
   "outputs": [],
   "source": []
  }
 ],
 "metadata": {
  "kernelspec": {
   "display_name": "Python 3",
   "language": "python",
   "name": "python3"
  },
  "language_info": {
   "codemirror_mode": {
    "name": "ipython",
    "version": 3
   },
   "file_extension": ".py",
   "mimetype": "text/x-python",
   "name": "python",
   "nbconvert_exporter": "python",
   "pygments_lexer": "ipython3",
   "version": "3.7.0"
  }
 },
 "nbformat": 4,
 "nbformat_minor": 2
}
