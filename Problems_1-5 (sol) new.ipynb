{
 "cells": [
  {
   "cell_type": "markdown",
   "metadata": {},
   "source": [
    "### 1. Prime numbers\n",
    "\n",
    "Напишете програма за определяне дали въведено число е просто. Просто число е това, което се дели само на себе си и едно. Въвеждате в началото на едно цяло число, което проверявате дали е просто. Ако въведеното число е просто отпечатвате съобщение \"The number is prime\", в противен случай отпечатвате съобщение \"The number is not prime\".\n",
    "\n",
    "Write a program to determine if the number entered is simple. A prime number is that which is divisible only by itself and one. You enter an integer at the beginning, which you check to see if it's simple. If the number entered is simply print the message \"The number is prime\", otherwise you print the message \"The number is not prime\"."
   ]
  },
  {
   "cell_type": "code",
   "execution_count": null,
   "metadata": {},
   "outputs": [],
   "source": [
    "# Program to check if a number is prime or not\n",
    "num = int(input(\"Enter a number: \"))\n",
    "if num > 1:\n",
    "    for i in range(2,num):\n",
    "        if (num % i) == 0:\n",
    "            print(num,\"is not a prime number\")\n",
    "            print(i,\"times\",num//i,\"is\",num)\n",
    "            break\n",
    "    else:\n",
    "        print(num,\"is a prime number\")\n",
    "else:\n",
    "    print(num,\"is not a prime number\")"
   ]
  },
  {
   "cell_type": "markdown",
   "metadata": {},
   "source": [
    "#### 1.1Program for printing all prime numbers in a range\n",
    "Program for printing all prime numbers in space."
   ]
  },
  {
   "cell_type": "code",
   "execution_count": null,
   "metadata": {},
   "outputs": [],
   "source": [
    "# input range from the user:   \n",
    "lower = int(input(\"Enter lower range: \"))  \n",
    "upper = int(input(\"Enter upper range: \"))  \n",
    "\n",
    "prime = []\n",
    "for num in range(lower,upper + 1):  \n",
    "    if num > 1:  \n",
    "        for i in range(2,num):  \n",
    "            if (num % i) == 0:  \n",
    "                break  \n",
    "        else:  \n",
    "            prime.append(num)\n",
    "\n",
    "print(prime)"
   ]
  },
  {
   "cell_type": "markdown",
   "metadata": {},
   "source": [
    "## 1.2 Leap year checking program\n",
    "Високосна година е точно делима на 4, с изключение на вековете (години завършващи с 00). Вековна годината е високосна, само ако е напълно делима на 400. Например,\n",
    "\n",
    "A leap year is exactly divisible by 4, except for centuries (years ending in 00). A century is a leap year only if it is completely divisible by 400. For example,"
   ]
  },
  {
   "cell_type": "code",
   "execution_count": null,
   "metadata": {},
   "outputs": [],
   "source": [
    "# check is it a leap year\n",
    "year = int(input(\"Enter a year: \"))  \n",
    "if (year % 4) == 0:  \n",
    "    if (year % 100) == 0:  \n",
    "        if (year % 400) == 0:\n",
    "              print(f'{year} is a leap year')\n",
    "        else:  \n",
    "            print(f'{year} is not a leap year')  \n",
    "    else:  \n",
    "        print(f'{year} is a leap year')  \n",
    "else:  \n",
    "    print(f'{year} is not a leap year')  "
   ]
  },
  {
   "cell_type": "code",
   "execution_count": null,
   "metadata": {},
   "outputs": [],
   "source": [
    "# check is it a leap year v.2\n",
    "year = int(input(\"Enter a year: \"))  \n",
    "if (year % 4) == 0 and ((year % 100) != 0 or (year % 400) == 0):\n",
    "        print(f'{year} is a leap year')\n",
    "else:  \n",
    "    print(f'{year} is not a leap year')  "
   ]
  },
  {
   "cell_type": "markdown",
   "metadata": {},
   "source": [
    "### 2. Fibonacci numbers\n",
    "Редът на Фибоначи се определя по следния начин:\n",
    "f(0) = 0, f(1) = 1, f(n) = f(n-1) + f(n-2)\t\t\n",
    "\n",
    "    https://en.wikipedia.org/wiki/Fibonacci_number\n",
    "\n",
    "Да се напише програма с интерфейс за въвеждане на цяло число, което е максималният елемент от реда на Фибоначи, а получените елементи\n",
    "да бъдат отпечатани.\n",
    "\n",
    "The Fibonacci order is determined as follows:\n",
    "f (0) = 0, f (1) = 1, f (n) = f (n-1) + f (n-2)\n",
    "\n",
    "     https://en.wikipedia.org/wiki/Fibonacci_number\n",
    "\n",
    "Create a program with an interface for entering an integer, which is the maximum element of the Fibonacci order, and the resulting elements\n",
    "to be printed."
   ]
  },
  {
   "cell_type": "code",
   "execution_count": null,
   "metadata": {},
   "outputs": [],
   "source": [
    "# Fibonacci sequence \n",
    "def fibonacci(n):      #  print fibonacci sequence up to n\n",
    "    a, b = 0, 1\n",
    "    while a < n:\n",
    "        print(a, end=' ')\n",
    "        a, b = b, a+b\n",
    "    print('\\n')\n",
    "\n",
    "def fibList(n):        #  return list fibonacci sequence up to n\n",
    "    result = []\n",
    "    a, b = 0, 1\n",
    "    while a < n:\n",
    "        result.append(a)\n",
    "        a, b = b, a+b\n",
    "    return result\n",
    "\n",
    "while 1:\n",
    "    num = input(\"Enter a num: \")\n",
    "    if num == '':\n",
    "        print(\"Incorrect input\") \n",
    "    else:\n",
    "        num = int(num)\n",
    "        if num <= 0: \n",
    "            print(\"Incorrect input\")\n",
    "            continue\n",
    "        elif num == 1: \n",
    "            print(0)\n",
    "        else:\n",
    "            break\n",
    "    \n",
    "fibonacci(num)          # fibonacci() print sequence up to n\n",
    "fibList = fibList(num)  # fibList() return list of fibonacci sequence up to n\n",
    "print(fibList)"
   ]
  },
  {
   "cell_type": "markdown",
   "metadata": {},
   "source": [
    "### 3. Word count\n",
    "Напишете програма за определяне на общият брой думи в даден текст/стринг и отпечатване на честота на най-срещаните думи в текста. За задачата използвайте готов текст от сайта https://www.lipsum.com/\n",
    "\n",
    "Алгоритъмът за работа е :\n",
    "\n",
    "    - Създайте речник от наличният текст, като ключове са думите в текста, а стойностите са честотата на срещане.\n",
    "    - Отпечатайте 10-те или всички (ако не са твърде много) най-срещати думи.\n",
    "    - Дума е част от текста, която е заградена от спейс или препинателен символ точка или запетая. \n",
    "\n",
    "В началото за тестване на програмата използвайте късо изречение с 1 - 2 повторения.\n",
    "\n",
    "Create a program to count the total number of words in a text / string and print the frequency of the most common words in the text. For the task use ready text from the site https://www.lipsum.com/\n",
    "\n",
    "The algorithm for work is:\n",
    "\n",
    "    - Create a dictionary from the available text, the keys being the words in the text and the values ​​being the frequency of encounters.\n",
    "    - Print the 10 or all (if not too many) most common words.\n",
    "    - A word is a part of the text that is enclosed by a space or punctuation mark dot or comma.\n",
    "\n",
    "At the beginning to test the program use a short sentence with 1-2 repetitions."
   ]
  },
  {
   "cell_type": "code",
   "execution_count": null,
   "metadata": {},
   "outputs": [],
   "source": [
    "def word_count(str):\n",
    "    counts = dict()\n",
    "    words = str.split()\n",
    " \n",
    "    for word in words:\n",
    "        if word in counts:\n",
    "            counts[word] += 1\n",
    "        else:\n",
    "            counts[word] = 1\n",
    "    return counts\n",
    "\n",
    "words = 'the quick brown fox, jumps over the lazy dog.'\n",
    "print(word_count(words))"
   ]
  },
  {
   "cell_type": "code",
   "execution_count": null,
   "metadata": {},
   "outputs": [],
   "source": [
    "Text = \"\"\"\n",
    "Sed ut perspiciatis unde omnis iste natus error sit voluptatem accusantium doloremque laudantium, totam rem aperiam, eaque ipsa quae ab illo inventore veritatis et quasi architecto beatae vitae dicta sunt explicabo. Nemo enim ipsam voluptatem quia voluptas sit aspernatur aut odit aut fugit, sed quia consequuntur magni dolores eos qui ratione voluptatem sequi nesciunt. Neque porro quisquam est, qui dolorem ipsum quia dolor sit amet, consectetur, adipisci velit, sed quia non numquam eius modi tempora incidunt ut labore et dolore magnam aliquam quaerat voluptatem. Ut enim ad minima veniam, quis nostrum exercitationem ullam corporis suscipit laboriosam, nisi ut aliquid ex ea commodi consequatur? Quis autem vel eum iure reprehenderit qui in ea voluptate velit esse quam nihil molestiae consequatur, vel illum qui dolorem eum fugiat quo voluptas nulla pariatur?\n",
    "\"\"\""
   ]
  },
  {
   "cell_type": "code",
   "execution_count": null,
   "metadata": {},
   "outputs": [],
   "source": [
    "# Cleaning text and lower casing all words\n",
    "for char in '-.,\\n':\n",
    "    Text=Text.replace(char,' ')\n",
    "    \n",
    "Text = Text.lower()\n",
    "\n",
    "# split returns a list of words delimited by sequences of whitespace\n",
    "# (including tabs, newlines, etc) \n",
    "word_list = Text.split()\n",
    "\n",
    "d = {}\n",
    "for word in word_list:\n",
    "    if word not in d:\n",
    "        d[word] = 0\n",
    "    d[word] += 1\n",
    "\n",
    "word_freq = []\n",
    "for key, value in d.items():\n",
    "    word_freq.append((value, key))\n",
    "word_freq.sort(reverse=True)\n",
    "\n",
    "print(d, end='\\n\\n')\n",
    "#print(word_freq)\n",
    "for k,v in word_freq:\n",
    "    if 2 < k < 10:\n",
    "        print(k,v)"
   ]
  },
  {
   "cell_type": "markdown",
   "metadata": {},
   "source": [
    "### 4. Simple calculator\n",
    "Създайте прост калкулатор, който може да добавя, изважда, умножава и дели в зависимост от входа на потребителя. Текстов формат.\n",
    "\n",
    "Create a simple calculator that can add, subtract, multiply and divide depending on the user's input. Text format."
   ]
  },
  {
   "cell_type": "code",
   "execution_count": null,
   "metadata": {},
   "outputs": [],
   "source": [
    "import os\n",
    "\n",
    "def add(x, y):      # adds two numbers \n",
    "    return x + y\n",
    "\n",
    "def subtract(x, y): # subtracts two numbers \n",
    "    return x - y\n",
    "\n",
    "def multiply(x, y): # multiplies two numbers\n",
    "    return x * y\n",
    "\n",
    "def divide(x, y):   # divides two numbers\n",
    "    return x / y\n",
    "\n",
    "# Menu part\n",
    "print(\"Select operation.\")\n",
    "print(\"1.Add\")\n",
    "print(\"2.Subtract\")\n",
    "print(\"3.Multiply\")\n",
    "print(\"4.Divide\")\n",
    "print(\"0.Exit\")\n",
    "\n",
    "while True:\n",
    "    # Get input from the user\n",
    "    sel = input(\"-----------\\nEnter choice(1/2/3/4/0=Exit): \")\n",
    "    if sel == '0': break\n",
    "    num1 = float(input(\"Enter first  number: \"))\n",
    "    num2 = float(input(\"Enter second number: \"))\n",
    "    if sel == '1':\n",
    "        print(num1,\"+\",num2,\"=\", add(num1,num2))\n",
    "    elif sel == '2':\n",
    "        print(num1,\"-\",num2,\"=\", subtract(num1,num2))\n",
    "    elif sel == '3':\n",
    "        print(num1,\"*\",num2,\"=\", multiply(num1,num2))\n",
    "    elif sel == '4':\n",
    "        print(num1,\"/\",num2,\"=\", divide(num1,num2))\n",
    "    else:\n",
    "        print(\"Error: Invalid input\")\n"
   ]
  },
  {
   "cell_type": "markdown",
   "metadata": {},
   "source": [
    "### 5. Python версия на Switch\n",
    "\n",
    "В някои други програмни езици има вградена фунция switch.\n",
    "\n",
    "Some other programming languages have a built-in switch function.\n",
    "\n",
    "    https://www.tutorialspoint.com/cprogramming/switch_statement_in_c\n",
    "\n",
    "    switch (x) \n",
    "        case 1:  printf(\"Choice is 1\")\n",
    "                 break\n",
    "        case 2:  printf(\"Choice is 2\") \n",
    "                 break\n",
    "        case 3:  printf(\"Choice is 3\")\n",
    "                 break\n",
    "        default: printf(\"Choice other than 1, 2 and 3\")\n",
    "                 break   \n",
    "\n",
    "Съдайте функция switch с един параметър и няколко if..elif..else или по друг начин,така че\n",
    "да изпълняма същите функции.\n",
    "\n",
    "Create a switch function with one parameter and several if..elif..else or otherwise, so\n",
    "to perform the same functions."
   ]
  },
  {
   "cell_type": "code",
   "execution_count": null,
   "metadata": {},
   "outputs": [],
   "source": [
    "# Solutions for Python Switch Case Statement\n",
    "def indirect(i):\n",
    "    switcher={\n",
    "       0:'zero',\n",
    "       1:'one',\n",
    "       2:'two',\n",
    "       3:'three',\n",
    "       4:'four',\n",
    "       5:'five',\n",
    "       6:'six'\n",
    "    }\n",
    "    return switcher.get(i,\"Invalid\")\n",
    "\n",
    "indirect(5)"
   ]
  },
  {
   "cell_type": "code",
   "execution_count": null,
   "metadata": {},
   "outputs": [],
   "source": [
    "# We can also use functions and lambdas in the dictionary\n",
    "def zero():   return 'zero'\n",
    "def one():    return 'one'\n",
    "def two():    return 'two'\n",
    "def three():  return 'three'\n",
    "def four():   return 'four'\n",
    "def five():   return 'five'\n",
    "def six():    return 'six'\n",
    "\n",
    "def indirect(i):\n",
    "    switcher={\n",
    "       0:zero,\n",
    "       1:one,\n",
    "       2:lambda:'two',\n",
    "       3:lambda:'three',\n",
    "       4:lambda:'four',\n",
    "       5:lambda:'five',\n",
    "       6:lambda:'six'\n",
    "    }\n",
    "    func=switcher.get(i,lambda :'Invalid')\n",
    "    return func()\n",
    "\n",
    "indirect(4)"
   ]
  },
  {
   "cell_type": "code",
   "execution_count": null,
   "metadata": {},
   "outputs": [],
   "source": [
    "# Using classes\n",
    "class Switcher(object):\n",
    "    \n",
    "    def indirect(self, i):\n",
    "        method_name = 'number_' + str(i)\n",
    "        method = getattr(self,method_name,lambda :'Invalid')\n",
    "        return method()\n",
    "        \n",
    "    def number_0(self): return 'zero'\n",
    "    def number_1(self): return 'one'\n",
    "    def number_2(self): return 'two'\n",
    "    def number_3(self): return 'three'\n",
    "    def number_4(self): return 'four'\n",
    "    def number_5(self): return 'five'\n",
    "    def number_6(self): return 'six'\n",
    "    \n",
    "s = Switcher()\n",
    "s.indirect(5)"
   ]
  }
 ],
 "metadata": {
  "kernelspec": {
   "display_name": "Python 3",
   "language": "python",
   "name": "python3"
  },
  "language_info": {
   "codemirror_mode": {
    "name": "ipython",
    "version": 3
   },
   "file_extension": ".py",
   "mimetype": "text/x-python",
   "name": "python",
   "nbconvert_exporter": "python",
   "pygments_lexer": "ipython3",
   "version": "3.7.0"
  }
 },
 "nbformat": 4,
 "nbformat_minor": 2
}
